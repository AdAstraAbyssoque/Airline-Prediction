{
  "cells": [
    {
      "cell_type": "markdown",
      "metadata": {
        "id": "M-KRYDZmkJOb"
      },
      "source": [
        "In this project, you will be tasked with predicting the 'Status' of flights based on historical flight data."
      ]
    },
    {
      "cell_type": "code",
      "execution_count": null,
      "metadata": {
        "id": "aaqs8YZEkXNd"
      },
      "outputs": [],
      "source": [
        "# You might use this block to download the training data\n",
        "import os\n",
        "import gdown\n",
        "\n",
        "if not os.path.exists(\"flights-data.tgz\"):\n",
        "    data_url = \"https://drive.google.com/file/d/10d1zrylGKQQp_Sl-5ejuphn4Q1vKDIo8/view?usp=share_link\"\n",
        "    gdown.download(data_url, fuzzy=True)\n",
        "    !tar -xvzf \"flights-data.tgz\""
      ]
    },
    {
      "cell_type": "markdown",
      "metadata": {
        "id": "tFPayuRGlFGS"
      },
      "source": [
        "Now, you need to implement your training code"
      ]
    },
    {
      "cell_type": "markdown",
      "metadata": {
        "id": "uOS11dATlOow"
      },
      "source": [
        "Then, it's time to predict and submit the results."
      ]
    },
    {
      "cell_type": "code",
      "execution_count": null,
      "metadata": {
        "id": "lrrVl5h2dO26"
      },
      "outputs": [],
      "source": [
        "import os\n",
        "import gdown\n",
        "import numpy as np\n",
        "import pandas as pd\n",
        "\n",
        "# input your student ID and name here\n",
        "student_id = \"50012962\"\n",
        "student_name = \"Bowen_LIU\"\n",
        "\n",
        "if not os.path.exists(\"test_data.csv\"):\n",
        "    data_url = \"https://drive.google.com/file/d/1eLZRSP9zb9KkdeRg-8CGuak3a_xLS6YF/view?usp=drive_link\"\n",
        "    gdown.download(data_url, fuzzy=True)\n",
        "data = pd.read_csv(\"test_data.csv\")\n",
        "\n",
        "# WARNING: Change this line to your prediction code!!! Do not submit this random result!!!\n",
        "data[\"Status\"] = np.random.choice(np.array([\"normal\", \"cancel\", \"delay\"]), size=len(data), replace=True)\n",
        "\n",
        "# Submit this ipynb and the csv file, you will be graded according to the f1 score (macro) and the quality of your code\n",
        "data.to_csv(f\"{student_id}_{student_name}.csv\")"
      ]
    }
  ],
  "metadata": {
    "colab": {
      "provenance": []
    },
    "kernelspec": {
      "display_name": "DSAAnew",
      "language": "python",
      "name": "python3"
    },
    "language_info": {
      "codemirror_mode": {
        "name": "ipython",
        "version": 3
      },
      "file_extension": ".py",
      "mimetype": "text/x-python",
      "name": "python",
      "nbconvert_exporter": "python",
      "pygments_lexer": "ipython3",
      "version": "3.9.21"
    }
  },
  "nbformat": 4,
  "nbformat_minor": 0
}
